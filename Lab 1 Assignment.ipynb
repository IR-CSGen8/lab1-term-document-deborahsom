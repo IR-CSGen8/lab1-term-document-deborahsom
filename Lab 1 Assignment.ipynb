{
 "cells": [
  {
   "cell_type": "code",
   "execution_count": 1,
   "id": "34e21f62",
   "metadata": {},
   "outputs": [],
   "source": [
    "# Define the documents as a dictionary where keys are document titles and values are document content\n",
    "documents = {\n",
    "    \"Article: Pandas Basics\": \"This article covers the basics of using Pandas in Python.\",\n",
    "    \"Tutorial: Data Visualization\": \"Learn about data visualization techniques with Python libraries.\",\n",
    "    \"Case Study: Sales Analysis\": \"Analyze sales data using Python for a real-world case study.\"\n",
    "}"
   ]
  },
  {
   "cell_type": "code",
   "execution_count": 2,
   "id": "ee8fdf0c",
   "metadata": {},
   "outputs": [
    {
     "name": "stdout",
     "output_type": "stream",
     "text": [
      "['Article: Pandas Basics', 'Tutorial: Data Visualization', 'Case Study: Sales Analysis']\n"
     ]
    }
   ],
   "source": [
    "# get the keys of the documents and store it in the list\n",
    "key_documents = list(documents.keys())\n",
    "\n",
    "# display the list of the key documents\n",
    "print(key_documents)"
   ]
  },
  {
   "cell_type": "code",
   "execution_count": 3,
   "id": "e5398841",
   "metadata": {},
   "outputs": [
    {
     "data": {
      "text/plain": [
       "['Article', 'Tutorial', 'Case Study']"
      ]
     },
     "execution_count": 3,
     "metadata": {},
     "output_type": "execute_result"
    }
   ],
   "source": [
    "# Extract the category of the key documents and store it \n",
    "key_category =[key.split(':')[0].strip() for key in key_documents]\n",
    "key_category"
   ]
  },
  {
   "cell_type": "code",
   "execution_count": 4,
   "id": "a5353707",
   "metadata": {},
   "outputs": [
    {
     "name": "stdout",
     "output_type": "stream",
     "text": [
      "['This article covers the basics of using Pandas in Python.', 'Learn about data visualization techniques with Python libraries.', 'Analyze sales data using Python for a real-world case study.']\n"
     ]
    }
   ],
   "source": [
    "\n",
    "# Extract the content values and put them in a list\n",
    "document_content_list = list(documents.values())\n",
    "\n",
    "# Display the list of document content\n",
    "print(document_content_list)"
   ]
  },
  {
   "cell_type": "code",
   "execution_count": 5,
   "id": "bedcd86f",
   "metadata": {},
   "outputs": [
    {
     "data": {
      "text/plain": [
       "{'Analyze',\n",
       " 'Learn',\n",
       " 'Pandas',\n",
       " 'Python',\n",
       " 'Python.',\n",
       " 'This',\n",
       " 'a',\n",
       " 'about',\n",
       " 'article',\n",
       " 'basics',\n",
       " 'case',\n",
       " 'covers',\n",
       " 'data',\n",
       " 'for',\n",
       " 'in',\n",
       " 'libraries.',\n",
       " 'of',\n",
       " 'real-world',\n",
       " 'sales',\n",
       " 'study.',\n",
       " 'techniques',\n",
       " 'the',\n",
       " 'using',\n",
       " 'visualization',\n",
       " 'with'}"
      ]
     },
     "execution_count": 5,
     "metadata": {},
     "output_type": "execute_result"
    }
   ],
   "source": [
    "# Gather the set of all unique terms from the list content of document and diplay the result\n",
    "unique_terms = {term for document in document_content_list for term in document.split()}\n",
    "unique_terms"
   ]
  },
  {
   "cell_type": "code",
   "execution_count": 6,
   "id": "41334ffd",
   "metadata": {},
   "outputs": [
    {
     "data": {
      "text/plain": [
       "{'Learn': [0, 0, 0],\n",
       " 'sales': [0, 0, 0],\n",
       " 'Pandas': [1, 0, 0],\n",
       " 'the': [0, 0, 0],\n",
       " 'techniques': [0, 0, 0],\n",
       " 'study.': [0, 0, 0],\n",
       " 'libraries.': [0, 0, 0],\n",
       " 'article': [0, 0, 0],\n",
       " 'in': [0, 0, 0],\n",
       " 'covers': [0, 0, 0],\n",
       " 'Python': [0, 0, 0],\n",
       " 'This': [0, 0, 0],\n",
       " 'Analyze': [0, 0, 0],\n",
       " 'Python.': [0, 0, 0],\n",
       " 'basics': [0, 0, 0],\n",
       " 'using': [0, 0, 0],\n",
       " 'case': [0, 0, 0],\n",
       " 'for': [0, 0, 0],\n",
       " 'visualization': [0, 0, 0],\n",
       " 'about': [0, 0, 0],\n",
       " 'a': [1, 1, 1],\n",
       " 'of': [0, 0, 0],\n",
       " 'real-world': [0, 0, 0],\n",
       " 'with': [0, 0, 0],\n",
       " 'data': [0, 0, 0]}"
      ]
     },
     "execution_count": 6,
     "metadata": {},
     "output_type": "execute_result"
    }
   ],
   "source": [
    "# create a matrix for the document by using the unique term\n",
    "doc_term_matrix = {}\n",
    "\n",
    "for term in unique_terms:\n",
    "    doc_term_matrix[term] = []\n",
    "    \n",
    "    for document in documents:\n",
    "        if term in document:\n",
    "            doc_term_matrix[term].append(1)\n",
    "        else: doc_term_matrix[term].append(0)\n",
    "\n",
    "# display the result of the matrix\n",
    "doc_term_matrix"
   ]
  },
  {
   "cell_type": "code",
   "execution_count": 21,
   "id": "a8a41b23",
   "metadata": {},
   "outputs": [
    {
     "name": "stdout",
     "output_type": "stream",
     "text": [
      "[1 1 1]\n",
      "[1 0 0]\n",
      "-------\n",
      "[1 0 0]\n"
     ]
    },
    {
     "data": {
      "text/plain": [
       "['This article covers the basics of using Pandas in Python.']"
      ]
     },
     "execution_count": 21,
     "metadata": {},
     "output_type": "execute_result"
    }
   ],
   "source": [
    "# import the numpy library if it doesn't work you need to install numpy\n",
    "import numpy as np\n",
    "\n",
    "docs_array = np.array(document_content_list, dtype='object')\n",
    "\n",
    "v1 = np.array(doc_term_matrix['the'])    \n",
    "v2 = np.array(doc_term_matrix['Python'])\n",
    "\n",
    "print(v1)\n",
    "print(v2)\n",
    "print('-------')\n",
    "\n",
    "# find the documents that have both terms from v1 and v2\n",
    "v3 = v1 & v2\n",
    "\n",
    "print(v3)\n",
    "\n",
    "# display the content document from the result\n",
    "[doc for doc in v3 * docs_array if doc]"
   ]
  },
  {
   "cell_type": "code",
   "execution_count": 22,
   "id": "11484192",
   "metadata": {},
   "outputs": [
    {
     "name": "stdout",
     "output_type": "stream",
     "text": [
      "[1 1 1]\n"
     ]
    },
    {
     "data": {
      "text/plain": [
       "['This article covers the basics of using Pandas in Python.',\n",
       " 'Learn about data visualization techniques with Python libraries.',\n",
       " 'Analyze sales data using Python for a real-world case study.']"
      ]
     },
     "execution_count": 22,
     "metadata": {},
     "output_type": "execute_result"
    }
   ],
   "source": [
    "# find the document for those have at least one word\n",
    "print(v1)\n",
    "print(v2)\n",
    "print('-------')\n",
    "\n",
    "\n",
    "v4 = v1 | v2\n",
    "\n",
    "print(v4)\n",
    "\n",
    "[doc for doc in v4 * docs_array if doc]\n"
   ]
  },
  {
   "cell_type": "code",
   "execution_count": null,
   "id": "d32aaaf9-745c-4586-a567-fdc9fdd24075",
   "metadata": {},
   "outputs": [],
   "source": []
  }
 ],
 "metadata": {
  "kernelspec": {
   "display_name": "Python 3 (ipykernel)",
   "language": "python",
   "name": "python3"
  },
  "language_info": {
   "codemirror_mode": {
    "name": "ipython",
    "version": 3
   },
   "file_extension": ".py",
   "mimetype": "text/x-python",
   "name": "python",
   "nbconvert_exporter": "python",
   "pygments_lexer": "ipython3",
   "version": "3.11.3"
  }
 },
 "nbformat": 4,
 "nbformat_minor": 5
}
